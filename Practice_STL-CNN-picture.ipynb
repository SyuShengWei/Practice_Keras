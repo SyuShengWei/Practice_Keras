{
 "cells": [
  {
   "cell_type": "code",
   "execution_count": 1,
   "metadata": {},
   "outputs": [],
   "source": [
    "#This script refer from :https://blog.manash.me/multi-task-learning-in-keras-implementation-of-multi-task-classification-loss-f1d42da5c3f6\n",
    "#This is a practic script for learning Keras\n",
    "#20190121"
   ]
  },
  {
   "cell_type": "code",
   "execution_count": 2,
   "metadata": {},
   "outputs": [],
   "source": [
    "import matplotlib.pyplot as plt\n",
    "import h5py\n",
    "import numpy as np\n",
    "from sklearn.model_selection import train_test_split"
   ]
  },
  {
   "cell_type": "code",
   "execution_count": 3,
   "metadata": {},
   "outputs": [],
   "source": [
    "file = h5py.File(\"./dataset.h5\")"
   ]
  },
  {
   "cell_type": "code",
   "execution_count": 4,
   "metadata": {},
   "outputs": [
    {
     "name": "stderr",
     "output_type": "stream",
     "text": [
      "c:\\users\\shengwei\\appdata\\local\\programs\\python\\python36\\lib\\site-packages\\h5py\\_hl\\dataset.py:313: H5pyDeprecationWarning: dataset.value has been deprecated. Use dataset[()] instead.\n",
      "  \"Use dataset[()] instead.\", H5pyDeprecationWarning)\n"
     ]
    }
   ],
   "source": [
    "x = file['x'].value"
   ]
  },
  {
   "cell_type": "code",
   "execution_count": 5,
   "metadata": {},
   "outputs": [
    {
     "data": {
      "text/plain": [
       "numpy.ndarray"
      ]
     },
     "execution_count": 5,
     "metadata": {},
     "output_type": "execute_result"
    }
   ],
   "source": [
    "type(x[0]) #picture data with 2000 training instance, 3 kind of color for mixing a 100 x 100 picture"
   ]
  },
  {
   "cell_type": "code",
   "execution_count": 6,
   "metadata": {},
   "outputs": [
    {
     "data": {
      "text/plain": [
       "numpy.ndarray"
      ]
     },
     "execution_count": 6,
     "metadata": {},
     "output_type": "execute_result"
    }
   ],
   "source": [
    "type(x)"
   ]
  },
  {
   "cell_type": "code",
   "execution_count": 7,
   "metadata": {},
   "outputs": [],
   "source": [
    "y = file['y'].value"
   ]
  },
  {
   "cell_type": "code",
   "execution_count": 8,
   "metadata": {},
   "outputs": [
    {
     "data": {
      "text/plain": [
       "(2000, 5)"
      ]
     },
     "execution_count": 8,
     "metadata": {},
     "output_type": "execute_result"
    }
   ],
   "source": [
    "y.shape # the answer is a one hot encoded vector"
   ]
  },
  {
   "cell_type": "code",
   "execution_count": 9,
   "metadata": {},
   "outputs": [
    {
     "data": {
      "text/plain": [
       "array([1, 0, 0, 0, 0], dtype=int64)"
      ]
     },
     "execution_count": 9,
     "metadata": {},
     "output_type": "execute_result"
    }
   ],
   "source": [
    "y[0]"
   ]
  },
  {
   "cell_type": "code",
   "execution_count": 10,
   "metadata": {},
   "outputs": [],
   "source": [
    "#This is the full function for loading this data\n",
    "def load():\n",
    "    f = h5py.File(\"./dataset.h5\")\n",
    "    x = f['x'].value\n",
    "    y = f['y'].value\n",
    "    f.close()\n",
    "    \n",
    "    x_train , x_test, y_train, y_test = train_test_split(x,y,test_size=0.2,random_state=100)\n",
    "    \n",
    "    # Making the data channel last\n",
    "    # 部分圖片的儲存是 (channel ,[height][width] ) 的方法儲存，為了修正，需要調用rollaxis\n",
    "    x_train = np.rollaxis(x_train, 1, 4)\n",
    "    x_test = np.rollaxis(x_test, 1, 4)\n",
    "    \n",
    "    # Normalizing data\n",
    "    x_train = x_train  / 255.0\n",
    "    x_test = x_test / 255.0\n",
    "   \n",
    "    return x_train, x_test, y_train, y_test"
   ]
  },
  {
   "cell_type": "code",
   "execution_count": 11,
   "metadata": {},
   "outputs": [],
   "source": [
    "x_train, x_test, y_train, y_test = load()"
   ]
  },
  {
   "cell_type": "code",
   "execution_count": 12,
   "metadata": {},
   "outputs": [
    {
     "data": {
      "text/plain": [
       "(1600, 100, 100, 3)"
      ]
     },
     "execution_count": 12,
     "metadata": {},
     "output_type": "execute_result"
    }
   ],
   "source": [
    "x_train.shape"
   ]
  },
  {
   "cell_type": "code",
   "execution_count": 13,
   "metadata": {},
   "outputs": [
    {
     "data": {
      "text/plain": [
       "(100, 100, 3)"
      ]
     },
     "execution_count": 13,
     "metadata": {},
     "output_type": "execute_result"
    }
   ],
   "source": [
    "x_train[0].shape"
   ]
  },
  {
   "cell_type": "code",
   "execution_count": 14,
   "metadata": {},
   "outputs": [
    {
     "data": {
      "text/plain": [
       "(1600, 5)"
      ]
     },
     "execution_count": 14,
     "metadata": {},
     "output_type": "execute_result"
    }
   ],
   "source": [
    "y_train.shape"
   ]
  },
  {
   "cell_type": "code",
   "execution_count": 15,
   "metadata": {},
   "outputs": [
    {
     "name": "stdout",
     "output_type": "stream",
     "text": [
      "[[0.05882353 0.27058824 0.58823529]\n",
      " [0.0745098  0.29411765 0.61176471]\n",
      " [0.05882353 0.29803922 0.61176471]\n",
      " [0.05490196 0.31372549 0.62352941]\n",
      " [0.06666667 0.3254902  0.62352941]\n",
      " [0.08627451 0.34901961 0.64313725]\n",
      " [0.07843137 0.35686275 0.64705882]\n",
      " [0.07843137 0.36470588 0.65490196]\n",
      " [0.08235294 0.37254902 0.67843137]\n",
      " [0.09411765 0.38823529 0.69411765]\n",
      " [0.09803922 0.39215686 0.69803922]\n",
      " [0.10588235 0.4        0.70588235]\n",
      " [0.11372549 0.40392157 0.71372549]\n",
      " [0.12156863 0.41176471 0.7254902 ]\n",
      " [0.1254902  0.42352941 0.73333333]\n",
      " [0.12156863 0.43137255 0.74117647]\n",
      " [0.12941176 0.43921569 0.75686275]\n",
      " [0.14117647 0.45098039 0.79215686]\n",
      " [0.14117647 0.45490196 0.79607843]\n",
      " [0.1372549  0.4627451  0.8       ]\n",
      " [0.14117647 0.4745098  0.81176471]\n",
      " [0.15686275 0.49019608 0.82745098]\n",
      " [0.16078431 0.50196078 0.84705882]\n",
      " [0.15294118 0.49411765 0.85098039]\n",
      " [0.15686275 0.50980392 0.86666667]\n",
      " [0.14509804 0.50980392 0.8745098 ]\n",
      " [0.14509804 0.51764706 0.88235294]\n",
      " [0.14117647 0.51764706 0.88235294]\n",
      " [0.14117647 0.52941176 0.89019608]\n",
      " [0.14901961 0.50980392 0.8627451 ]\n",
      " [0.0745098  0.26666667 0.5254902 ]\n",
      " [0.14509804 0.30588235 0.60392157]\n",
      " [0.14117647 0.55686275 0.90196078]\n",
      " [0.15686275 0.55294118 0.89803922]\n",
      " [0.14509804 0.56078431 0.89411765]\n",
      " [0.15294118 0.56862745 0.90196078]\n",
      " [0.15686275 0.57254902 0.90588235]\n",
      " [0.16078431 0.57254902 0.90196078]\n",
      " [0.16862745 0.57647059 0.90196078]\n",
      " [0.16862745 0.57647059 0.90196078]\n",
      " [0.17254902 0.58039216 0.90588235]\n",
      " [0.17647059 0.58431373 0.90980392]\n",
      " [0.17254902 0.59607843 0.90196078]\n",
      " [0.16470588 0.60392157 0.90196078]\n",
      " [0.15686275 0.6        0.88627451]\n",
      " [0.16470588 0.6        0.88235294]\n",
      " [0.17647059 0.60784314 0.89019608]\n",
      " [0.17647059 0.60784314 0.89019608]\n",
      " [0.17647059 0.60784314 0.89019608]\n",
      " [0.17647059 0.60784314 0.89019608]\n",
      " [0.16470588 0.61176471 0.89019608]\n",
      " [0.16470588 0.61176471 0.89019608]\n",
      " [0.16862745 0.61568627 0.89411765]\n",
      " [0.16862745 0.61568627 0.89411765]\n",
      " [0.18039216 0.61176471 0.89411765]\n",
      " [0.18039216 0.61176471 0.89411765]\n",
      " [0.18039216 0.61176471 0.89411765]\n",
      " [0.18039216 0.61176471 0.89411765]\n",
      " [0.18039216 0.59607843 0.89803922]\n",
      " [0.18039216 0.59607843 0.89803922]\n",
      " [0.18039216 0.59607843 0.89803922]\n",
      " [0.18039216 0.59607843 0.89803922]\n",
      " [0.17647059 0.59607843 0.89803922]\n",
      " [0.17254902 0.59607843 0.90196078]\n",
      " [0.17254902 0.59607843 0.90196078]\n",
      " [0.17254902 0.59607843 0.90196078]\n",
      " [0.17254902 0.59607843 0.90196078]\n",
      " [0.16862745 0.59215686 0.89803922]\n",
      " [0.16862745 0.59215686 0.89803922]\n",
      " [0.17254902 0.59607843 0.90196078]\n",
      " [0.17254902 0.59607843 0.90196078]\n",
      " [0.16862745 0.58823529 0.90588235]\n",
      " [0.16078431 0.58039216 0.89803922]\n",
      " [0.16078431 0.58039216 0.89803922]\n",
      " [0.16078431 0.58039216 0.89803922]\n",
      " [0.16862745 0.58431373 0.90980392]\n",
      " [0.15686275 0.57254902 0.89803922]\n",
      " [0.14901961 0.56470588 0.89019608]\n",
      " [0.15686275 0.57254902 0.89803922]\n",
      " [0.16078431 0.55294118 0.89803922]\n",
      " [0.16078431 0.55294118 0.89803922]\n",
      " [0.16470588 0.55686275 0.90196078]\n",
      " [0.15686275 0.54901961 0.89803922]\n",
      " [0.16078431 0.5372549  0.90196078]\n",
      " [0.15686275 0.53333333 0.90196078]\n",
      " [0.14509804 0.52156863 0.89019608]\n",
      " [0.14509804 0.52156863 0.89019608]\n",
      " [0.1372549  0.51372549 0.87843137]\n",
      " [0.13333333 0.50980392 0.8745098 ]\n",
      " [0.13333333 0.50588235 0.87058824]\n",
      " [0.14509804 0.49803922 0.86666667]\n",
      " [0.14117647 0.49411765 0.8627451 ]\n",
      " [0.14117647 0.48235294 0.84313725]\n",
      " [0.14117647 0.47843137 0.83137255]\n",
      " [0.14901961 0.47058824 0.81568627]\n",
      " [0.1372549  0.4627451  0.8       ]\n",
      " [0.1372549  0.45098039 0.77647059]\n",
      " [0.1254902  0.43921569 0.76470588]\n",
      " [0.12156863 0.43529412 0.76078431]\n",
      " [0.10980392 0.42352941 0.74901961]] (100, 3)\n"
     ]
    }
   ],
   "source": [
    "for row in x_train[0]:\n",
    "    print(row,row.shape)\n",
    "    \n",
    "    break"
   ]
  },
  {
   "cell_type": "code",
   "execution_count": 16,
   "metadata": {},
   "outputs": [
    {
     "name": "stderr",
     "output_type": "stream",
     "text": [
      "Using TensorFlow backend.\n"
     ]
    }
   ],
   "source": [
    "import keras.backend as K\n",
    "def multitask_loss(y_true, y_pred):\n",
    "# Avoid divide by 0\n",
    "    #keras.backend.clip(x, min_value, max_value)\n",
    "        # x is a tensor\n",
    "        # this function will return a tensor\n",
    "        # clip will made the value in tensor within min and max value\n",
    "        # use it with epsilon() can help make the value within 0~1 but not 0, so it can avoid divide by 0\n",
    "    #keras.backend.epsilon()\n",
    "        #return a float which is very small \n",
    "    y_pred = K.clip(y_pred, K.epsilon(), 1 - K.epsilon())\n",
    "# Multi-task loss\n",
    "    # the formule shows below\n",
    "    return K.mean(K.sum(- y_true * K.log(y_pred) - (1 - y_true) * K.log(1 - y_pred), axis=1))"
   ]
  },
  {
   "attachments": {
    "image.png": {
     "image/png": "[encoded data removed]"
    }
   },
   "cell_type": "markdown",
   "metadata": {},
   "source": [
    "![image.png](attachment:image.png)"
   ]
  },
  {
   "cell_type": "code",
   "execution_count": 17,
   "metadata": {},
   "outputs": [
    {
     "name": "stdout",
     "output_type": "stream",
     "text": [
      "1e-07\n",
      "0.9999999\n",
      "0.8\n"
     ]
    }
   ],
   "source": [
    "# here is the example \n",
    "# keras.backend seems like use tensorflow function\n",
    "\n",
    "import tensorflow as tf\n",
    "sess = tf.Session()\n",
    "K.set_session(sess)\n",
    "x = K.variable(-8)\n",
    "y = K.variable(10)\n",
    "z = K.variable(0.8)\n",
    "init_op = tf.global_variables_initializer()\n",
    "sess.run(init_op)\n",
    "print(sess.run(K.clip(x,K.epsilon(),1 - K.epsilon())))\n",
    "print(sess.run(K.clip(y,K.epsilon(),1 - K.epsilon())))\n",
    "print(sess.run(K.clip(z,K.epsilon(),1 - K.epsilon())))"
   ]
  },
  {
   "cell_type": "code",
   "execution_count": 18,
   "metadata": {},
   "outputs": [],
   "source": [
    "from keras.models import Sequential # for buliding the model\n",
    "from keras.layers import Dense, Dropout, Flatten # for fullconnection layers\n",
    "from keras.layers import Conv2D, MaxPooling2D, Activation # for CNN"
   ]
  },
  {
   "cell_type": "code",
   "execution_count": 19,
   "metadata": {},
   "outputs": [],
   "source": [
    "batch_size = 100\n",
    "num_classes = 5\n",
    "epochs = 10"
   ]
  },
  {
   "cell_type": "code",
   "execution_count": 20,
   "metadata": {},
   "outputs": [],
   "source": [
    "img_rows, img_cols = 100, 100\n",
    "channels = 3"
   ]
  },
  {
   "cell_type": "code",
   "execution_count": 21,
   "metadata": {},
   "outputs": [],
   "source": [
    "#init model\n",
    "model = Sequential()\n",
    "#C layer kernel3x3\n",
    "model.add(Conv2D(32, kernel_size=(3, 3),padding='same',input_shape=(img_rows, img_cols, channels)))\n",
    "#Activation function\n",
    "model.add(Activation('relu'))\n",
    "#C layer kernel3x3\n",
    "model.add(Conv2D(32, (3, 3)))\n",
    "#Activation function\n",
    "model.add(Activation('relu'))\n",
    "#pooling\n",
    "model.add(MaxPooling2D(pool_size=(2, 2)))\n",
    "#dropout\n",
    "model.add(Dropout(0.25))"
   ]
  },
  {
   "cell_type": "code",
   "execution_count": 22,
   "metadata": {},
   "outputs": [],
   "source": [
    "model.add(Conv2D(64,(3, 3), padding='same'))\n",
    "model.add(Activation('relu'))\n",
    "model.add(Conv2D(64, (3, 3)))\n",
    "model.add(Activation('relu'))\n",
    "model.add(MaxPooling2D(pool_size=(2, 2)))\n",
    "model.add(Dropout(0.25))"
   ]
  },
  {
   "cell_type": "code",
   "execution_count": 23,
   "metadata": {},
   "outputs": [],
   "source": [
    "#flatten the feature map for fully-connection layer input\n",
    "model.add(Flatten())\n",
    "#FC-layer\n",
    "model.add(Dense(512))\n",
    "#FC-activation\n",
    "model.add(Activation('relu'))\n",
    "#dropout\n",
    "model.add(Dropout(0.5))\n",
    "#FC-layer for class\n",
    "model.add(Dense(num_classes))\n",
    "#sigmoid activation\n",
    "model.add(Activation('sigmoid'))"
   ]
  },
  {
   "cell_type": "code",
   "execution_count": 29,
   "metadata": {},
   "outputs": [],
   "source": [
    "model.compile(loss='binary_crossentropy',\n",
    "              optimizer='adam',\n",
    "              metrics=['accuracy'])"
   ]
  },
  {
   "cell_type": "code",
   "execution_count": 28,
   "metadata": {},
   "outputs": [
    {
     "name": "stdout",
     "output_type": "stream",
     "text": [
      "Train on 1600 samples, validate on 400 samples\n",
      "Epoch 1/10\n",
      "1600/1600 [==============================] - 83s 52ms/step - loss: 3.3437 - acc: 0.2694 - val_loss: 2.4435 - val_acc: 0.3650\n",
      "roc_auc: 0.76442 - roc_auc_val: 0.74964 - norm_gini: 0.52884 - norm_gini_val: 0.49927          \n",
      "Epoch 2/10\n",
      "1600/1600 [==============================] - 83s 52ms/step - loss: 2.3098 - acc: 0.4319 - val_loss: 2.2577 - val_acc: 0.4775\n",
      "roc_auc: 0.82917 - roc_auc_val: 0.8235 - norm_gini: 0.65835 - norm_gini_val: 0.64699          \n",
      "Epoch 3/10\n",
      "1600/1600 [==============================] - 88s 55ms/step - loss: 2.0710 - acc: 0.5237 - val_loss: 1.9467 - val_acc: 0.5925\n",
      "roc_auc: 0.87188 - roc_auc_val: 0.86169 - norm_gini: 0.74377 - norm_gini_val: 0.72338          \n",
      "Epoch 4/10\n",
      "1600/1600 [==============================] - 83s 52ms/step - loss: 1.8378 - acc: 0.5912 - val_loss: 1.8643 - val_acc: 0.6075\n",
      "roc_auc: 0.8885 - roc_auc_val: 0.8768 - norm_gini: 0.77699 - norm_gini_val: 0.7536          \n",
      "Epoch 5/10\n",
      "1600/1600 [==============================] - 85s 53ms/step - loss: 1.7792 - acc: 0.5988 - val_loss: 1.7262 - val_acc: 0.6475\n",
      "roc_auc: 0.89983 - roc_auc_val: 0.88532 - norm_gini: 0.79967 - norm_gini_val: 0.77064          \n",
      "Epoch 6/10\n",
      "1600/1600 [==============================] - 79s 50ms/step - loss: 1.7064 - acc: 0.6113 - val_loss: 1.7524 - val_acc: 0.6325\n",
      "roc_auc: 0.90286 - roc_auc_val: 0.88521 - norm_gini: 0.80571 - norm_gini_val: 0.77042          \n",
      "Epoch 7/10\n",
      "1600/1600 [==============================] - 80s 50ms/step - loss: 1.6205 - acc: 0.6487 - val_loss: 1.6702 - val_acc: 0.6500\n",
      "roc_auc: 0.92244 - roc_auc_val: 0.89389 - norm_gini: 0.84489 - norm_gini_val: 0.78778          \n",
      "Epoch 8/10\n",
      "1600/1600 [==============================] - 83s 52ms/step - loss: 1.4870 - acc: 0.6675 - val_loss: 1.6614 - val_acc: 0.6675\n",
      "roc_auc: 0.93188 - roc_auc_val: 0.8968 - norm_gini: 0.86377 - norm_gini_val: 0.79359          \n",
      "Epoch 9/10\n",
      "1600/1600 [==============================] - 86s 54ms/step - loss: 1.3994 - acc: 0.6931 - val_loss: 1.5818 - val_acc: 0.6875\n",
      "roc_auc: 0.93817 - roc_auc_val: 0.90303 - norm_gini: 0.87634 - norm_gini_val: 0.80606          \n",
      "Epoch 10/10\n",
      "1600/1600 [==============================] - 86s 53ms/step - loss: 1.3911 - acc: 0.6850 - val_loss: 1.5581 - val_acc: 0.6675\n",
      "roc_auc: 0.94962 - roc_auc_val: 0.90478 - norm_gini: 0.89924 - norm_gini_val: 0.80955          \n"
     ]
    },
    {
     "data": {
      "text/plain": [
       "<keras.callbacks.History at 0xf54a198>"
      ]
     },
     "execution_count": 28,
     "metadata": {},
     "output_type": "execute_result"
    }
   ],
   "source": [
    "#multi-task-loss\n",
    "model.fit(x_train, y_train,\n",
    "          batch_size=batch_size,\n",
    "          epochs=epochs,\n",
    "          verbose=1,\n",
    "          callbacks=callbacks,\n",
    "          validation_data=(x_test, y_test))"
   ]
  },
  {
   "cell_type": "code",
   "execution_count": 30,
   "metadata": {},
   "outputs": [
    {
     "name": "stdout",
     "output_type": "stream",
     "text": [
      "Train on 1600 samples, validate on 400 samples\n",
      "Epoch 1/10\n",
      "1600/1600 [==============================] - 90s 56ms/step - loss: 0.2890 - acc: 0.8760 - val_loss: 0.3436 - val_acc: 0.8530\n",
      "roc_auc: 0.94412 - roc_auc_val: 0.89419 - norm_gini: 0.88823 - norm_gini_val: 0.78838          \n",
      "Epoch 2/10\n",
      "1600/1600 [==============================] - 86s 54ms/step - loss: 0.2556 - acc: 0.8921 - val_loss: 0.3374 - val_acc: 0.8670\n",
      "roc_auc: 0.95696 - roc_auc_val: 0.89874 - norm_gini: 0.91391 - norm_gini_val: 0.79747          \n",
      "Epoch 3/10\n",
      "1600/1600 [==============================] - 85s 53ms/step - loss: 0.2375 - acc: 0.9044 - val_loss: 0.3163 - val_acc: 0.8695\n",
      "roc_auc: 0.96443 - roc_auc_val: 0.90351 - norm_gini: 0.92886 - norm_gini_val: 0.80701          \n",
      "Epoch 4/10\n",
      " 700/1600 [============>.................] - ETA: 46s - loss: 0.2206 - acc: 0.9097"
     ]
    },
    {
     "ename": "KeyboardInterrupt",
     "evalue": "",
     "output_type": "error",
     "traceback": [
      "\u001b[1;31m---------------------------------------------------------------------------\u001b[0m",
      "\u001b[1;31mKeyboardInterrupt\u001b[0m                         Traceback (most recent call last)",
      "\u001b[1;32m<ipython-input-30-17932d56308b>\u001b[0m in \u001b[0;36m<module>\u001b[1;34m\u001b[0m\n\u001b[0;32m      5\u001b[0m           \u001b[0mverbose\u001b[0m\u001b[1;33m=\u001b[0m\u001b[1;36m1\u001b[0m\u001b[1;33m,\u001b[0m\u001b[1;33m\u001b[0m\u001b[1;33m\u001b[0m\u001b[0m\n\u001b[0;32m      6\u001b[0m           \u001b[0mcallbacks\u001b[0m\u001b[1;33m=\u001b[0m\u001b[0mcallbacks\u001b[0m\u001b[1;33m,\u001b[0m\u001b[1;33m\u001b[0m\u001b[1;33m\u001b[0m\u001b[0m\n\u001b[1;32m----> 7\u001b[1;33m           validation_data=(x_test, y_test))\n\u001b[0m",
      "\u001b[1;32mc:\\users\\shengwei\\appdata\\local\\programs\\python\\python36\\lib\\site-packages\\keras\\engine\\training.py\u001b[0m in \u001b[0;36mfit\u001b[1;34m(self, x, y, batch_size, epochs, verbose, callbacks, validation_split, validation_data, shuffle, class_weight, sample_weight, initial_epoch, steps_per_epoch, validation_steps, **kwargs)\u001b[0m\n\u001b[0;32m   1037\u001b[0m                                         \u001b[0minitial_epoch\u001b[0m\u001b[1;33m=\u001b[0m\u001b[0minitial_epoch\u001b[0m\u001b[1;33m,\u001b[0m\u001b[1;33m\u001b[0m\u001b[1;33m\u001b[0m\u001b[0m\n\u001b[0;32m   1038\u001b[0m                                         \u001b[0msteps_per_epoch\u001b[0m\u001b[1;33m=\u001b[0m\u001b[0msteps_per_epoch\u001b[0m\u001b[1;33m,\u001b[0m\u001b[1;33m\u001b[0m\u001b[1;33m\u001b[0m\u001b[0m\n\u001b[1;32m-> 1039\u001b[1;33m                                         validation_steps=validation_steps)\n\u001b[0m\u001b[0;32m   1040\u001b[0m \u001b[1;33m\u001b[0m\u001b[0m\n\u001b[0;32m   1041\u001b[0m     def evaluate(self, x=None, y=None,\n",
      "\u001b[1;32mc:\\users\\shengwei\\appdata\\local\\programs\\python\\python36\\lib\\site-packages\\keras\\engine\\training_arrays.py\u001b[0m in \u001b[0;36mfit_loop\u001b[1;34m(model, f, ins, out_labels, batch_size, epochs, verbose, callbacks, val_f, val_ins, shuffle, callback_metrics, initial_epoch, steps_per_epoch, validation_steps)\u001b[0m\n\u001b[0;32m    197\u001b[0m                     \u001b[0mins_batch\u001b[0m\u001b[1;33m[\u001b[0m\u001b[0mi\u001b[0m\u001b[1;33m]\u001b[0m \u001b[1;33m=\u001b[0m \u001b[0mins_batch\u001b[0m\u001b[1;33m[\u001b[0m\u001b[0mi\u001b[0m\u001b[1;33m]\u001b[0m\u001b[1;33m.\u001b[0m\u001b[0mtoarray\u001b[0m\u001b[1;33m(\u001b[0m\u001b[1;33m)\u001b[0m\u001b[1;33m\u001b[0m\u001b[1;33m\u001b[0m\u001b[0m\n\u001b[0;32m    198\u001b[0m \u001b[1;33m\u001b[0m\u001b[0m\n\u001b[1;32m--> 199\u001b[1;33m                 \u001b[0mouts\u001b[0m \u001b[1;33m=\u001b[0m \u001b[0mf\u001b[0m\u001b[1;33m(\u001b[0m\u001b[0mins_batch\u001b[0m\u001b[1;33m)\u001b[0m\u001b[1;33m\u001b[0m\u001b[1;33m\u001b[0m\u001b[0m\n\u001b[0m\u001b[0;32m    200\u001b[0m                 \u001b[0mouts\u001b[0m \u001b[1;33m=\u001b[0m \u001b[0mto_list\u001b[0m\u001b[1;33m(\u001b[0m\u001b[0mouts\u001b[0m\u001b[1;33m)\u001b[0m\u001b[1;33m\u001b[0m\u001b[1;33m\u001b[0m\u001b[0m\n\u001b[0;32m    201\u001b[0m                 \u001b[1;32mfor\u001b[0m \u001b[0ml\u001b[0m\u001b[1;33m,\u001b[0m \u001b[0mo\u001b[0m \u001b[1;32min\u001b[0m \u001b[0mzip\u001b[0m\u001b[1;33m(\u001b[0m\u001b[0mout_labels\u001b[0m\u001b[1;33m,\u001b[0m \u001b[0mouts\u001b[0m\u001b[1;33m)\u001b[0m\u001b[1;33m:\u001b[0m\u001b[1;33m\u001b[0m\u001b[1;33m\u001b[0m\u001b[0m\n",
      "\u001b[1;32mc:\\users\\shengwei\\appdata\\local\\programs\\python\\python36\\lib\\site-packages\\keras\\backend\\tensorflow_backend.py\u001b[0m in \u001b[0;36m__call__\u001b[1;34m(self, inputs)\u001b[0m\n\u001b[0;32m   2713\u001b[0m                 \u001b[1;32mreturn\u001b[0m \u001b[0mself\u001b[0m\u001b[1;33m.\u001b[0m\u001b[0m_legacy_call\u001b[0m\u001b[1;33m(\u001b[0m\u001b[0minputs\u001b[0m\u001b[1;33m)\u001b[0m\u001b[1;33m\u001b[0m\u001b[1;33m\u001b[0m\u001b[0m\n\u001b[0;32m   2714\u001b[0m \u001b[1;33m\u001b[0m\u001b[0m\n\u001b[1;32m-> 2715\u001b[1;33m             \u001b[1;32mreturn\u001b[0m \u001b[0mself\u001b[0m\u001b[1;33m.\u001b[0m\u001b[0m_call\u001b[0m\u001b[1;33m(\u001b[0m\u001b[0minputs\u001b[0m\u001b[1;33m)\u001b[0m\u001b[1;33m\u001b[0m\u001b[1;33m\u001b[0m\u001b[0m\n\u001b[0m\u001b[0;32m   2716\u001b[0m         \u001b[1;32melse\u001b[0m\u001b[1;33m:\u001b[0m\u001b[1;33m\u001b[0m\u001b[1;33m\u001b[0m\u001b[0m\n\u001b[0;32m   2717\u001b[0m             \u001b[1;32mif\u001b[0m \u001b[0mpy_any\u001b[0m\u001b[1;33m(\u001b[0m\u001b[0mis_tensor\u001b[0m\u001b[1;33m(\u001b[0m\u001b[0mx\u001b[0m\u001b[1;33m)\u001b[0m \u001b[1;32mfor\u001b[0m \u001b[0mx\u001b[0m \u001b[1;32min\u001b[0m \u001b[0minputs\u001b[0m\u001b[1;33m)\u001b[0m\u001b[1;33m:\u001b[0m\u001b[1;33m\u001b[0m\u001b[1;33m\u001b[0m\u001b[0m\n",
      "\u001b[1;32mc:\\users\\shengwei\\appdata\\local\\programs\\python\\python36\\lib\\site-packages\\keras\\backend\\tensorflow_backend.py\u001b[0m in \u001b[0;36m_call\u001b[1;34m(self, inputs)\u001b[0m\n\u001b[0;32m   2673\u001b[0m             \u001b[0mfetched\u001b[0m \u001b[1;33m=\u001b[0m \u001b[0mself\u001b[0m\u001b[1;33m.\u001b[0m\u001b[0m_callable_fn\u001b[0m\u001b[1;33m(\u001b[0m\u001b[1;33m*\u001b[0m\u001b[0marray_vals\u001b[0m\u001b[1;33m,\u001b[0m \u001b[0mrun_metadata\u001b[0m\u001b[1;33m=\u001b[0m\u001b[0mself\u001b[0m\u001b[1;33m.\u001b[0m\u001b[0mrun_metadata\u001b[0m\u001b[1;33m)\u001b[0m\u001b[1;33m\u001b[0m\u001b[1;33m\u001b[0m\u001b[0m\n\u001b[0;32m   2674\u001b[0m         \u001b[1;32melse\u001b[0m\u001b[1;33m:\u001b[0m\u001b[1;33m\u001b[0m\u001b[1;33m\u001b[0m\u001b[0m\n\u001b[1;32m-> 2675\u001b[1;33m             \u001b[0mfetched\u001b[0m \u001b[1;33m=\u001b[0m \u001b[0mself\u001b[0m\u001b[1;33m.\u001b[0m\u001b[0m_callable_fn\u001b[0m\u001b[1;33m(\u001b[0m\u001b[1;33m*\u001b[0m\u001b[0marray_vals\u001b[0m\u001b[1;33m)\u001b[0m\u001b[1;33m\u001b[0m\u001b[1;33m\u001b[0m\u001b[0m\n\u001b[0m\u001b[0;32m   2676\u001b[0m         \u001b[1;32mreturn\u001b[0m \u001b[0mfetched\u001b[0m\u001b[1;33m[\u001b[0m\u001b[1;33m:\u001b[0m\u001b[0mlen\u001b[0m\u001b[1;33m(\u001b[0m\u001b[0mself\u001b[0m\u001b[1;33m.\u001b[0m\u001b[0moutputs\u001b[0m\u001b[1;33m)\u001b[0m\u001b[1;33m]\u001b[0m\u001b[1;33m\u001b[0m\u001b[1;33m\u001b[0m\u001b[0m\n\u001b[0;32m   2677\u001b[0m \u001b[1;33m\u001b[0m\u001b[0m\n",
      "\u001b[1;32mc:\\users\\shengwei\\appdata\\local\\programs\\python\\python36\\lib\\site-packages\\tensorflow\\python\\client\\session.py\u001b[0m in \u001b[0;36m__call__\u001b[1;34m(self, *args, **kwargs)\u001b[0m\n\u001b[0;32m   1437\u001b[0m           ret = tf_session.TF_SessionRunCallable(\n\u001b[0;32m   1438\u001b[0m               \u001b[0mself\u001b[0m\u001b[1;33m.\u001b[0m\u001b[0m_session\u001b[0m\u001b[1;33m.\u001b[0m\u001b[0m_session\u001b[0m\u001b[1;33m,\u001b[0m \u001b[0mself\u001b[0m\u001b[1;33m.\u001b[0m\u001b[0m_handle\u001b[0m\u001b[1;33m,\u001b[0m \u001b[0margs\u001b[0m\u001b[1;33m,\u001b[0m \u001b[0mstatus\u001b[0m\u001b[1;33m,\u001b[0m\u001b[1;33m\u001b[0m\u001b[1;33m\u001b[0m\u001b[0m\n\u001b[1;32m-> 1439\u001b[1;33m               run_metadata_ptr)\n\u001b[0m\u001b[0;32m   1440\u001b[0m         \u001b[1;32mif\u001b[0m \u001b[0mrun_metadata\u001b[0m\u001b[1;33m:\u001b[0m\u001b[1;33m\u001b[0m\u001b[1;33m\u001b[0m\u001b[0m\n\u001b[0;32m   1441\u001b[0m           \u001b[0mproto_data\u001b[0m \u001b[1;33m=\u001b[0m \u001b[0mtf_session\u001b[0m\u001b[1;33m.\u001b[0m\u001b[0mTF_GetBuffer\u001b[0m\u001b[1;33m(\u001b[0m\u001b[0mrun_metadata_ptr\u001b[0m\u001b[1;33m)\u001b[0m\u001b[1;33m\u001b[0m\u001b[1;33m\u001b[0m\u001b[0m\n",
      "\u001b[1;31mKeyboardInterrupt\u001b[0m: "
     ]
    }
   ],
   "source": [
    "#binary_crossentropy result\n",
    "model.fit(x_train, y_train,\n",
    "          batch_size=batch_size,\n",
    "          epochs=epochs,\n",
    "          verbose=1,\n",
    "          callbacks=callbacks,\n",
    "          validation_data=(x_test, y_test))"
   ]
  },
  {
   "cell_type": "code",
   "execution_count": 39,
   "metadata": {},
   "outputs": [
    {
     "data": {
      "text/plain": [
       "0.852"
      ]
     },
     "execution_count": 39,
     "metadata": {},
     "output_type": "execute_result"
    }
   ],
   "source": [
    "(0.8825+0.8350+0.7975+0.8975+0.8475)/5"
   ]
  },
  {
   "cell_type": "code",
   "execution_count": 27,
   "metadata": {},
   "outputs": [],
   "source": [
    "#this auc fumction works\n",
    "#add this in model.fit()  :callbacks=callbacks\n",
    "from keras.callbacks import  Callback\n",
    "from sklearn.metrics import  roc_auc_score\n",
    "class roc_auc_callback(Callback):\n",
    "    def __init__(self,training_data,validation_data):\n",
    "        self.x = training_data[0]\n",
    "        self.y = training_data[1]\n",
    "        self.x_val = validation_data[0]\n",
    "        self.y_val = validation_data[1]\n",
    "\n",
    "    def on_train_begin(self, logs={}):\n",
    "        return\n",
    "\n",
    "    def on_train_end(self, logs={}):\n",
    "        return\n",
    "\n",
    "    def on_epoch_begin(self, epoch, logs={}):\n",
    "        return\n",
    "\n",
    "    def on_epoch_end(self, epoch, logs={}):\n",
    "        y_pred = self.model.predict_proba(self.x, verbose=0)\n",
    "        roc = roc_auc_score(self.y, y_pred)\n",
    "        logs['roc_auc'] = roc_auc_score(self.y, y_pred)\n",
    "        logs['norm_gini'] = ( roc_auc_score(self.y, y_pred) * 2 ) - 1\n",
    "\n",
    "        y_pred_val = self.model.predict_proba(self.x_val, verbose=0)\n",
    "        roc_val = roc_auc_score(self.y_val, y_pred_val)\n",
    "        logs['roc_auc_val'] = roc_auc_score(self.y_val, y_pred_val)\n",
    "        logs['norm_gini_val'] = ( roc_auc_score(self.y_val, y_pred_val) * 2 ) - 1\n",
    "\n",
    "        print('\\rroc_auc: %s - roc_auc_val: %s - norm_gini: %s - norm_gini_val: %s' % (str(round(roc,5)),str(round(roc_val,5)),str(round((roc*2-1),5)),str(round((roc_val*2-1),5))), end=10*' '+'\\n')\n",
    "        return\n",
    "\n",
    "    def on_batch_begin(self, batch, logs={}):\n",
    "        return\n",
    "\n",
    "    def on_batch_end(self, batch, logs={}):\n",
    "        return\n",
    "callbacks = [roc_auc_callback(training_data=(x_train, y_train),validation_data=(x_test, y_test))]"
   ]
  },
  {
   "cell_type": "code",
   "execution_count": null,
   "metadata": {},
   "outputs": [],
   "source": []
  },
  {
   "cell_type": "markdown",
   "metadata": {},
   "source": [
    "But this model is not what i wish,\n",
    "I need a model like this\n",
    "https://dam-prod.media.mit.edu/thumb/2017/12/12/Screen%20Shot%202017-12-12%20at%2011.50.03%20AM.png.1400x1400.png\n"
   ]
  },
  {
   "cell_type": "markdown",
   "metadata": {},
   "source": [
    "Here are some hint for buliding this model\n",
    "\n",
    "x = Input(shape=(n, ))\n",
    "shared = Dense(32)(x)\n",
    "sub1 = Dense(16)(shared)\n",
    "sub2 = Dense(16)(shared)\n",
    "sub3 = Dense(16)(shared)\n",
    "out1 = Dense(1)(sub1)\n",
    "out2 = Dense(1)(sub2)\n",
    "out3 = Dense(1)(sub3)\n",
    "\n",
    "model = Model(inputs=x, outputs=[out1, out2, out3])\n",
    "\n",
    "reference : https://stackoverflow.com/questions/48615003/multi-task-learning-in-keras"
   ]
  },
  {
   "cell_type": "code",
   "execution_count": null,
   "metadata": {},
   "outputs": [],
   "source": [
    "sharedLSTM1 = LSTM((data.shape[1]), return_sequences=True)\n",
    "sharedLSTM2 = LSTM(data.shape[1])\n",
    "def createModel(dropoutRate=0.0, numNeurons=40, optimizer='adam'):\n",
    "    inputLayer = Input(shape=(timesteps, data.shape[1]))\n",
    "    sharedLSTM1Instance = sharedLSTM1(inputLayer)\n",
    "    sharedLSTM2Instance =  sharedLSTM2(sharedLSTM1Instance)\n",
    "    dropoutLayer = Dropout(dropoutRate)(sharedLSTM2Instance)\n",
    "    denseLayer1 = Dense(numNeurons)(dropoutLayer)\n",
    "    denseLayer2 = Dense(numNeurons)(denseLayer1)\n",
    "    outputLayer = Dense(1, activation='sigmoid')(denseLayer2)\n",
    "    return (inputLayer, outputLayer)\n",
    "\n",
    "inputLayer1, outputLayer1 = createModel()\n",
    "inputLayer2, outputLayer2 = createModel()\n",
    "model = Model(inputs=[inputLayer1, inputLayer2], outputs=[outputLayer1, outputLayer2])\n",
    "model.compile(loss='binary_crossentropy', optimizer='adam', metrics=['accuracy'])"
   ]
  },
  {
   "cell_type": "markdown",
   "metadata": {},
   "source": [
    "Here is the official ducument \n",
    ":https://keras.io/getting-started/functional-api-guide/"
   ]
  },
  {
   "cell_type": "code",
   "execution_count": null,
   "metadata": {},
   "outputs": [],
   "source": []
  }
 ],
 "metadata": {
  "kernelspec": {
   "display_name": "Python 3",
   "language": "python",
   "name": "python3"
  },
  "language_info": {
   "codemirror_mode": {
    "name": "ipython",
    "version": 3
   },
   "file_extension": ".py",
   "mimetype": "text/x-python",
   "name": "python",
   "nbconvert_exporter": "python",
   "pygments_lexer": "ipython3",
   "version": "3.6.8"
  }
 },
 "nbformat": 4,
 "nbformat_minor": 2
}
