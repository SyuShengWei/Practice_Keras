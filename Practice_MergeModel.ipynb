{
 "cells": [
  {
   "cell_type": "code",
   "execution_count": 1,
   "metadata": {},
   "outputs": [
    {
     "name": "stderr",
     "output_type": "stream",
     "text": [
      "Using TensorFlow backend.\n"
     ]
    }
   ],
   "source": [
    "from keras.models import Sequential\n",
    "from keras.layers import *\n",
    "from keras.utils import to_categorical\n",
    "import numpy as np\n",
    "from keras.models import Model"
   ]
  },
  {
   "cell_type": "code",
   "execution_count": 55,
   "metadata": {},
   "outputs": [],
   "source": [
    "import tensorflow as tf"
   ]
  },
  {
   "cell_type": "code",
   "execution_count": 129,
   "metadata": {},
   "outputs": [],
   "source": [
    "CNN = Sequential()\n",
    "CNN.add(Conv2D(32, kernel_size = (3,100),padding='same', input_shape = (20,100,1)))\n",
    "CNN.add(MaxPooling2D(20,100))\n"
   ]
  },
  {
   "cell_type": "code",
   "execution_count": 130,
   "metadata": {},
   "outputs": [
    {
     "name": "stdout",
     "output_type": "stream",
     "text": [
      "_________________________________________________________________\n",
      "Layer (type)                 Output Shape              Param #   \n",
      "=================================================================\n",
      "conv2d_126 (Conv2D)          (None, 20, 100, 32)       9632      \n",
      "_________________________________________________________________\n",
      "max_pooling2d_112 (MaxPoolin (None, 1, 1, 32)          0         \n",
      "=================================================================\n",
      "Total params: 9,632\n",
      "Trainable params: 9,632\n",
      "Non-trainable params: 0\n",
      "_________________________________________________________________\n"
     ]
    }
   ],
   "source": [
    "CNN.summary()"
   ]
  },
  {
   "cell_type": "code",
   "execution_count": 135,
   "metadata": {},
   "outputs": [],
   "source": [
    "Text_Input = Input(name= 'TextInput',shape=(20, 100,1))\n",
    "\n",
    "#hope each kernal only get one feature\n",
    "C_L_1 = Conv2D(32, kernel_size = (3,100),padding='same',)(Text_Input)\n",
    "M_P_1 = MaxPooling2D(20,100)(C_L_1)\n",
    "FL1 = Flatten()(M_P_1)\n",
    "\n",
    "C_L_2 = Conv2D(32, kernel_size = (4,100),padding='same')(Text_Input)\n",
    "M_P_2 = MaxPooling2D(20,100)(C_L_2)\n",
    "FL2 = Flatten()(M_P_2)\n",
    "\n",
    "Line_Feature = concatenate([FL1,FL2])\n",
    "\n",
    "#gru_1 = GRU(256, return_sequences=True, kernel_initializer='he_normal', name='gru1')(Line_Feature)\n",
    "model = Model(inputs=[Text_Input], outputs=Line_Feature)\n",
    "input_sequences = Input(shape=(None,20, 100, 1))    \n",
    "            \n",
    "Process =TimeDistributed(model)(input_sequences)\n",
    "\n",
    "#Process_RE  =Reshape(target_shape=((None,1, 64)), name='reshape')(Process)\n",
    "gru_1 = GRU(256, return_sequences=True, kernel_initializer='he_normal', name='gru1')(Process)"
   ]
  },
  {
   "cell_type": "code",
   "execution_count": 136,
   "metadata": {},
   "outputs": [
    {
     "data": {
      "text/plain": [
       "TensorShape([Dimension(None), Dimension(1), Dimension(1), Dimension(32)])"
      ]
     },
     "execution_count": 136,
     "metadata": {},
     "output_type": "execute_result"
    }
   ],
   "source": [
    "M_P_1.shape"
   ]
  },
  {
   "cell_type": "code",
   "execution_count": 137,
   "metadata": {},
   "outputs": [
    {
     "data": {
      "text/plain": [
       "TensorShape([Dimension(None), Dimension(None), Dimension(64)])"
      ]
     },
     "execution_count": 137,
     "metadata": {},
     "output_type": "execute_result"
    }
   ],
   "source": [
    "Process.shape"
   ]
  },
  {
   "cell_type": "code",
   "execution_count": 138,
   "metadata": {},
   "outputs": [
    {
     "data": {
      "text/plain": [
       "tensorflow.python.framework.ops.Tensor"
      ]
     },
     "execution_count": 138,
     "metadata": {},
     "output_type": "execute_result"
    }
   ],
   "source": [
    "type(Process)"
   ]
  },
  {
   "cell_type": "code",
   "execution_count": null,
   "metadata": {},
   "outputs": [],
   "source": []
  }
 ],
 "metadata": {
  "kernelspec": {
   "display_name": "Python 3",
   "language": "python",
   "name": "python3"
  },
  "language_info": {
   "codemirror_mode": {
    "name": "ipython",
    "version": 3
   },
   "file_extension": ".py",
   "mimetype": "text/x-python",
   "name": "python",
   "nbconvert_exporter": "python",
   "pygments_lexer": "ipython3",
   "version": "3.6.8"
  }
 },
 "nbformat": 4,
 "nbformat_minor": 2
}
